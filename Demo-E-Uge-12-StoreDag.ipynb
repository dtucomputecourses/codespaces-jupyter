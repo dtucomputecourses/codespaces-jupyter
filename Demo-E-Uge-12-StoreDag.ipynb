{
 "cells": [
  {
   "cell_type": "markdown",
   "metadata": {},
   "source": [
    "# Differentialligningssystemer\n",
    "Demo af Christian Mikkelstrup og Hans Henrik Hermansen"
   ]
  },
  {
   "cell_type": "code",
   "execution_count": 1,
   "metadata": {},
   "outputs": [],
   "source": [
    "from sympy import *\n",
    "init_printing()"
   ]
  },
  {
   "cell_type": "markdown",
   "metadata": {},
   "source": [
    "## Homogene systemer af første ordens lineære diff-ligninger\n",
    "\n",
    "## 1. Systemmatricen har to reelle egenværdier\n",
    "Givet differentialligningsystemet\n",
    "\n",
    "\\begin{gather*}\n",
    "    \\frac{\\text{d}}{\\text{d}t}x_1(t) = 5x_1(t) - 3x_2(t)\\\\\n",
    "    \\frac{\\text{d}}{\\text{d}t}x_2(t) = 6x_1(t) - 4x_2(t)\n",
    "\\end{gather*}"
   ]
  },
  {
   "cell_type": "markdown",
   "metadata": {},
   "source": [
    "### a. Simuleret håndregning via diagonaliseringsmetoden\n",
    "Først løser vi systemet i hånden vha. diagonaliseringsmetoden, dvs. vi opstiller og analyserer systemmatricen"
   ]
  },
  {
   "cell_type": "code",
   "execution_count": 2,
   "metadata": {},
   "outputs": [
    {
     "data": {
      "image/png": "[encoded data removed]",
      "text/latex": [
       "$\\displaystyle \\left[\\begin{matrix}\\frac{C_{1} e^{- t}}{2} + C_{2} e^{2 t}\\\\C_{1} e^{- t} + C_{2} e^{2 t}\\end{matrix}\\right]$"
      ],
      "text/plain": [
       "⎡    -t          ⎤\n",
       "⎢C₁⋅ℯ         2⋅t⎥\n",
       "⎢────── + C₂⋅ℯ   ⎥\n",
       "⎢  2             ⎥\n",
       "⎢                ⎥\n",
       "⎢    -t       2⋅t⎥\n",
       "⎣C₁⋅ℯ   + C₂⋅ℯ   ⎦"
      ]
     },
     "execution_count": 2,
     "metadata": {},
     "output_type": "execute_result"
    }
   ],
   "source": [
    "t,C1,C2 = symbols(\"t C1:3\")\n",
    "A = Matrix([[5,-3],[6,-4]])\n",
    "ev = A.eigenvects()\n",
    "res = C1 * E ** (ev[0][0]*t) * ev[0][2][0] + C2 * E ** (ev[1][0]*t) * ev[1][2][0]\n",
    "res"
   ]
  },
  {
   "cell_type": "markdown",
   "metadata": {},
   "source": [
    "### b. via dsolve\n",
    "Vi kan også finde løsningen direkte med dsolve"
   ]
  },
  {
   "cell_type": "code",
   "execution_count": 3,
   "metadata": {},
   "outputs": [
    {
     "data": {
      "image/png": "[encoded data removed]",
      "text/latex": [
       "$\\displaystyle \\left[ \\operatorname{x_{1}}{\\left(t \\right)} = \\frac{C_{1} e^{- t}}{2} + C_{2} e^{2 t}, \\  \\operatorname{x_{2}}{\\left(t \\right)} = C_{1} e^{- t} + C_{2} e^{2 t}\\right]$"
      ],
      "text/plain": [
       "⎡            -t                                    ⎤\n",
       "⎢        C₁⋅ℯ         2⋅t              -t       2⋅t⎥\n",
       "⎢x₁(t) = ────── + C₂⋅ℯ   , x₂(t) = C₁⋅ℯ   + C₂⋅ℯ   ⎥\n",
       "⎣          2                                       ⎦"
      ]
     },
     "execution_count": 3,
     "metadata": {},
     "output_type": "execute_result"
    }
   ],
   "source": [
    "x1 = Function(\"x1\")\n",
    "x2 = Function(\"x2\")\n",
    "eq1 = Eq(diff(x1(t),t),5 * x1(t) - 3 * x2(t))\n",
    "eq2 = Eq(diff(x2(t),t),6*x1(t) - 4*x2(t))\n",
    "\n",
    "dsolve([eq1, eq2])"
   ]
  },
  {
   "cell_type": "markdown",
   "metadata": {},
   "source": [
    "## 2. Systemmatricen har to komplekse egenværdier\n",
    "Givet differentialligningssystemet\n",
    "\\begin{gather*}\n",
    "    \\frac{\\text{d}}{\\text{d}t}x_1(t) = 2x_1(t) + 2x_2(t)\\\\\n",
    "    \\frac{\\text{d}}{\\text{d}t}x_2(t) = -x_1(t) + 4x_2(t)\n",
    "\\end{gather*}"
   ]
  },
  {
   "cell_type": "markdown",
   "metadata": {},
   "source": [
    "## a. Simuleret håndregning\n",
    "Fremgangsmåden her er den samme."
   ]
  },
  {
   "cell_type": "code",
   "execution_count": 4,
   "metadata": {},
   "outputs": [
    {
     "data": {
      "image/png": "[encoded data removed]",
      "text/latex": [
       "$\\displaystyle \\left[\\begin{matrix}C_{1} \\cdot \\left(1 + i\\right) e^{t \\left(3 - i\\right)} + C_{2} \\cdot \\left(1 - i\\right) e^{t \\left(3 + i\\right)}\\\\C_{1} e^{t \\left(3 - i\\right)} + C_{2} e^{t \\left(3 + i\\right)}\\end{matrix}\\right]$"
      ],
      "text/plain": [
       "⎡            t⋅(3 - ⅈ)               t⋅(3 + ⅈ)⎤\n",
       "⎢C₁⋅(1 + ⅈ)⋅ℯ          + C₂⋅(1 - ⅈ)⋅ℯ         ⎥\n",
       "⎢                                             ⎥\n",
       "⎢            t⋅(3 - ⅈ)       t⋅(3 + ⅈ)        ⎥\n",
       "⎣        C₁⋅ℯ          + C₂⋅ℯ                 ⎦"
      ]
     },
     "execution_count": 4,
     "metadata": {},
     "output_type": "execute_result"
    }
   ],
   "source": [
    "A = Matrix([[2,2],[-1,4]])\n",
    "ev = A.eigenvects()\n",
    "res = C1 * E ** (ev[0][0]*t) * ev[0][2][0] + C2 * E ** (ev[1][0]*t) * ev[1][2][0]\n",
    "res"
   ]
  },
  {
   "cell_type": "markdown",
   "metadata": {},
   "source": [
    "Nu finder vi også den fuldstændige reelle løsning vha. metode 17.5"
   ]
  },
  {
   "cell_type": "code",
   "execution_count": 5,
   "metadata": {},
   "outputs": [
    {
     "data": {
      "image/png": "[encoded data removed]",
      "text/latex": [
       "$\\displaystyle \\left[\\begin{matrix}C_{1} \\left(\\sin{\\left(t \\right)} + \\cos{\\left(t \\right)}\\right) e^{3 t} + C_{2} \\left(- \\sin{\\left(t \\right)} + \\cos{\\left(t \\right)}\\right) e^{3 t}\\\\C_{1} e^{3 t} \\cos{\\left(t \\right)} - C_{2} e^{3 t} \\sin{\\left(t \\right)}\\end{matrix}\\right]$"
      ],
      "text/plain": [
       "⎡                      3⋅t                          3⋅t⎤\n",
       "⎢C₁⋅(sin(t) + cos(t))⋅ℯ    + C₂⋅(-sin(t) + cos(t))⋅ℯ   ⎥\n",
       "⎢                                                      ⎥\n",
       "⎢               3⋅t              3⋅t                   ⎥\n",
       "⎣           C₁⋅ℯ   ⋅cos(t) - C₂⋅ℯ   ⋅sin(t)            ⎦"
      ]
     },
     "execution_count": 5,
     "metadata": {},
     "output_type": "execute_result"
    }
   ],
   "source": [
    "a = re(ev[0][0])\n",
    "b = im(ev[0][0])\n",
    "re_ev = re(ev[0][2][0])\n",
    "im_ev = im(ev[0][2][0])\n",
    "u1 = E ** (a * t) * (cos(b * t) * re_ev - sin(b * t) * im_ev)\n",
    "u2 = E ** (a * t) * (sin(b * t) * re_ev + cos(b * t) * im_ev)\n",
    "C1 * u1 + C2 * u2"
   ]
  },
  {
   "cell_type": "markdown",
   "metadata": {},
   "source": [
    "### b. Med dsovle"
   ]
  },
  {
   "cell_type": "code",
   "execution_count": 6,
   "metadata": {},
   "outputs": [
    {
     "data": {
      "image/png": "[encoded data removed]",
      "text/latex": [
       "$\\displaystyle \\left[ \\operatorname{x_{1}}{\\left(t \\right)} = - \\left(C_{1} - C_{2}\\right) e^{3 t} \\sin{\\left(t \\right)} + \\left(C_{1} + C_{2}\\right) e^{3 t} \\cos{\\left(t \\right)}, \\  \\operatorname{x_{2}}{\\left(t \\right)} = - C_{1} e^{3 t} \\sin{\\left(t \\right)} + C_{2} e^{3 t} \\cos{\\left(t \\right)}\\right]$"
      ],
      "text/plain": [
       "⎡                     3⋅t                     3⋅t                       3⋅t   \n",
       "⎣x₁(t) = - (C₁ - C₂)⋅ℯ   ⋅sin(t) + (C₁ + C₂)⋅ℯ   ⋅cos(t), x₂(t) = - C₁⋅ℯ   ⋅si\n",
       "\n",
       "           3⋅t       ⎤\n",
       "n(t) + C₂⋅ℯ   ⋅cos(t)⎦"
      ]
     },
     "execution_count": 6,
     "metadata": {},
     "output_type": "execute_result"
    }
   ],
   "source": [
    "eq1 = Eq(diff(x1(t),t),2*x1(t) + 2*x2(t))\n",
    "eq2 = Eq(diff(x2(t),t),-x1(t) + 4*x2(t))\n",
    "\n",
    "dsolve([eq1, eq2])"
   ]
  },
  {
   "cell_type": "markdown",
   "metadata": {},
   "source": [
    "Selvom løsningerne ser lidt forskellige ud, så er de lig hinanden."
   ]
  },
  {
   "cell_type": "markdown",
   "metadata": {},
   "source": [
    "## 3. Betinget løsning med plot\n",
    "Lad os se på systemet fra eksempel 1 igen.\n",
    "\\begin{gather*}\n",
    "    \\frac{\\text{d}}{\\text{d}t}x_1(t) = 5x_1(t) - 3x_2(t)\\\\\n",
    "    \\frac{\\text{d}}{\\text{d}t}x_2(t) = 6x_2(t) - 4x_2(t)\n",
    "\\end{gather*}\n",
    "\n",
    "Vi kom frem til den fuldstændige løsning\n",
    "\\begin{gather*}\n",
    "    \\begin{bmatrix} x_1(t) \\\\ x_2(t) \\end{bmatrix} = C_1 e^{-t} \\begin{bmatrix}1 \\\\ 2\\end{bmatrix} + C_2 e^{2t} \\begin{bmatrix} 1 \\\\ 1 \\end{bmatrix}\n",
    "\\end{gather*}\n",
    "\n",
    "Lad os finde et $C_1$ og $C_2$, der medfører at $x_1(0) = 2$ og $x_2(0) = 3$."
   ]
  },
  {
   "cell_type": "markdown",
   "metadata": {},
   "source": [
    "### a. Simuleret håndregning\n",
    "Først finder vi lige løsningen igen"
   ]
  },
  {
   "cell_type": "code",
   "execution_count": 7,
   "metadata": {},
   "outputs": [
    {
     "data": {
      "image/png": "[encoded data removed]",
      "text/latex": [
       "$\\displaystyle \\left( \\frac{C_{1} e^{- t}}{2} + C_{2} e^{2 t}, \\  C_{1} e^{- t} + C_{2} e^{2 t}\\right)$"
      ],
      "text/plain": [
       "⎛    -t                            ⎞\n",
       "⎜C₁⋅ℯ         2⋅t      -t       2⋅t⎟\n",
       "⎜────── + C₂⋅ℯ   , C₁⋅ℯ   + C₂⋅ℯ   ⎟\n",
       "⎝  2                               ⎠"
      ]
     },
     "execution_count": 7,
     "metadata": {},
     "output_type": "execute_result"
    }
   ],
   "source": [
    "t,C1,C2 = symbols(\"t C1:3\")\n",
    "A = Matrix([[5,-3],[6,-4]])\n",
    "ev = A.eigenvects()\n",
    "fuld = C1 * E ** (ev[0][0]*t) * ev[0][2][0] + C2 * E ** (ev[1][0]*t) * ev[1][2][0]\n",
    "x1_fuld, x2_fuld = fuld[0],fuld[1]\n",
    "x1_fuld, x2_fuld"
   ]
  },
  {
   "cell_type": "markdown",
   "metadata": {},
   "source": [
    "Nu kan løse for $c_1$ og $c_2$\n"
   ]
  },
  {
   "cell_type": "code",
   "execution_count": 8,
   "metadata": {},
   "outputs": [
    {
     "data": {
      "image/png": "[encoded data removed]",
      "text/latex": [
       "$\\displaystyle \\left\\{ C_{1} : 2, \\  C_{2} : 1\\right\\}$"
      ],
      "text/plain": [
       "{C₁: 2, C₂: 1}"
      ]
     },
     "execution_count": 8,
     "metadata": {},
     "output_type": "execute_result"
    }
   ],
   "source": [
    "solve([Eq(x1_fuld.subs(t,0),2),Eq(x2_fuld.subs(t,0),3)])\n"
   ]
  },
  {
   "cell_type": "markdown",
   "metadata": {},
   "source": [
    "Vi kunne også gøre dette med $\\text{dsolve}$"
   ]
  },
  {
   "cell_type": "code",
   "execution_count": 9,
   "metadata": {},
   "outputs": [
    {
     "data": {
      "image/png": "[encoded data removed]",
      "text/latex": [
       "$\\displaystyle \\left[ \\operatorname{x_{1}}{\\left(t \\right)} = e^{2 t} + e^{- t}, \\  \\operatorname{x_{2}}{\\left(t \\right)} = e^{2 t} + 2 e^{- t}\\right]$"
      ],
      "text/plain": [
       "⎡         2⋅t    -t           2⋅t      -t⎤\n",
       "⎣x₁(t) = ℯ    + ℯ  , x₂(t) = ℯ    + 2⋅ℯ  ⎦"
      ]
     },
     "execution_count": 9,
     "metadata": {},
     "output_type": "execute_result"
    }
   ],
   "source": [
    "eq1 = Eq(diff(x1(t),t),5 * x1(t) - 3 * x2(t))\n",
    "eq2 = Eq(diff(x2(t),t),6*x1(t) - 4*x2(t))\n",
    "\n",
    "dsolve([eq1, eq2],ics={x1(0) : 2, x2(0) : 3})"
   ]
  },
  {
   "cell_type": "markdown",
   "metadata": {},
   "source": [
    "Nu, hvor vi har fundet $c_1$ og $c_2$, kan vi plotte vores løsning."
   ]
  },
  {
   "cell_type": "code",
   "execution_count": 10,
   "metadata": {},
   "outputs": [
    {
     "data": {
      "image/png": "[encoded data removed]",
      "text/plain": [
       "<Figure size 432x288 with 1 Axes>"
      ]
     },
     "metadata": {
      "needs_background": "light"
     },
     "output_type": "display_data"
    },
    {
     "data": {
      "text/plain": [
       "<sympy.plotting.plot.Plot at 0x205c79ce9d0>"
      ]
     },
     "execution_count": 10,
     "metadata": {},
     "output_type": "execute_result"
    }
   ],
   "source": [
    "plot(x1_fuld.subs([(C1,2),(C2,1)]),x2_fuld.subs([(C1,2),(C2,1)]),xlim=(-1,1),ylim=(0,8),legend=True)"
   ]
  }
 ],
 "metadata": {
  "kernelspec": {
   "display_name": "Python 3 (ipykernel)",
   "language": "python",
   "name": "python3"
  },
  "language_info": {
   "codemirror_mode": {
    "name": "ipython",
    "version": 3
   },
   "file_extension": ".py",
   "mimetype": "text/x-python",
   "name": "python",
   "nbconvert_exporter": "python",
   "pygments_lexer": "ipython3",
   "version": "3.9.0"
  },
  "vscode": {
   "interpreter": {
    "hash": "e7370f93d1d0cde622a1f8e1c04877d8463912d04d973331ad4851f04de6915a"
   }
  }
 },
 "nbformat": 4,
 "nbformat_minor": 2
}
